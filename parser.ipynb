{
 "cells": [
  {
   "cell_type": "markdown",
   "metadata": {},
   "source": [
    "### Parse Hex's more complete Item-ID list & convert to Hexadecimal IDs for insertion into CEA files for Mass-Item-Gibs\n"
   ]
  },
  {
   "cell_type": "code",
   "execution_count": 38,
   "metadata": {},
   "outputs": [],
   "source": [
    "import pandas as pd\n"
   ]
  },
  {
   "cell_type": "code",
   "execution_count": 39,
   "metadata": {},
   "outputs": [],
   "source": [
    "# Define the function to convert decimal IDs to hexadecimal with 8 digits\n",
    "def decimal_to_hexadecimal(decimal_id):\n",
    "    return hex(int(decimal_id))[2:].zfill(8)  # Remove '0x' prefix and pad with zeros to 8 digits\n",
    "\n",
    "# Define a function to write the export file\n",
    "def write_export_file(group_df):\n",
    "    type_name = group_df['type'].iloc[0]\n",
    "    file_name = f'./HEX_IDs/HEX_{type_name}.txt'\n",
    "    \n",
    "    with open(file_name, 'w') as export_file:\n",
    "        for _, row in group_df.iterrows():\n",
    "            if type_name in [\"weapon\", \"catalyst\"]:\n",
    "                # dd 00D6FF10 00000001 FFFF0000 FFFFFFFF // Axe Of Epiphany\n",
    "                line = f'dd {row[\"id\"]} 00000001 FFFF0000 FFFFFFFF // {row[\"name\"]}\\n'\n",
    "            elif type_name in ['armor']:\n",
    "                # dd 10009C40 00000001 00000000 FFFFFFFF // Iron Helmet\n",
    "                line = f'dd 1{row[\"id\"][1:]} 00000001 00000000 FFFFFFFF // {row[\"name\"]}\\n'\n",
    "            else:\n",
    "                # dd 40000898 00000001 00000000 FFFFFFFF // Prattling Pate \"Hello\"\n",
    "                line = f'dd 4{row[\"id\"][1:]} 00000001 00000000 FFFFFFFF // {row[\"name\"]}\\n'\n",
    "            export_file.write(line)\n"
   ]
  },
  {
   "cell_type": "code",
   "execution_count": 40,
   "metadata": {},
   "outputs": [
    {
     "data": {
      "text/html": [
       "<div>\n",
       "<style scoped>\n",
       "    .dataframe tbody tr th:only-of-type {\n",
       "        vertical-align: middle;\n",
       "    }\n",
       "\n",
       "    .dataframe tbody tr th {\n",
       "        vertical-align: top;\n",
       "    }\n",
       "\n",
       "    .dataframe thead th {\n",
       "        text-align: right;\n",
       "    }\n",
       "</style>\n",
       "<table border=\"1\" class=\"dataframe\">\n",
       "  <thead>\n",
       "    <tr style=\"text-align: right;\">\n",
       "      <th></th>\n",
       "      <th>type</th>\n",
       "      <th>name</th>\n",
       "      <th>id</th>\n",
       "    </tr>\n",
       "  </thead>\n",
       "  <tbody>\n",
       "    <tr>\n",
       "      <th>0</th>\n",
       "      <td>keystone</td>\n",
       "      <td>keystone 1</td>\n",
       "      <td>00001f7c</td>\n",
       "    </tr>\n",
       "    <tr>\n",
       "      <th>1</th>\n",
       "      <td>keystone</td>\n",
       "      <td>keystone 2</td>\n",
       "      <td>00001f7d</td>\n",
       "    </tr>\n",
       "    <tr>\n",
       "      <th>2</th>\n",
       "      <td>keystone</td>\n",
       "      <td>keystone 3</td>\n",
       "      <td>00001f7e</td>\n",
       "    </tr>\n",
       "    <tr>\n",
       "      <th>3</th>\n",
       "      <td>keystone</td>\n",
       "      <td>keystone 4</td>\n",
       "      <td>00001f7f</td>\n",
       "    </tr>\n",
       "    <tr>\n",
       "      <th>4</th>\n",
       "      <td>keystone</td>\n",
       "      <td>keystone 5</td>\n",
       "      <td>00001f80</td>\n",
       "    </tr>\n",
       "    <tr>\n",
       "      <th>5</th>\n",
       "      <td>rune</td>\n",
       "      <td>faint rune of beasts</td>\n",
       "      <td>0000206c</td>\n",
       "    </tr>\n",
       "    <tr>\n",
       "      <th>6</th>\n",
       "      <td>rune</td>\n",
       "      <td>shimmering rune of beasts</td>\n",
       "      <td>0000206d</td>\n",
       "    </tr>\n",
       "    <tr>\n",
       "      <th>7</th>\n",
       "      <td>rune</td>\n",
       "      <td>glowing rune of beasts</td>\n",
       "      <td>0000206e</td>\n",
       "    </tr>\n",
       "    <tr>\n",
       "      <th>8</th>\n",
       "      <td>rune</td>\n",
       "      <td>shining rune of beasts</td>\n",
       "      <td>0000206f</td>\n",
       "    </tr>\n",
       "    <tr>\n",
       "      <th>9</th>\n",
       "      <td>rune</td>\n",
       "      <td>radiant rune of beasts</td>\n",
       "      <td>00002070</td>\n",
       "    </tr>\n",
       "  </tbody>\n",
       "</table>\n",
       "</div>"
      ],
      "text/plain": [
       "       type                       name        id\n",
       "0  keystone                 keystone 1  00001f7c\n",
       "1  keystone                 keystone 2  00001f7d\n",
       "2  keystone                 keystone 3  00001f7e\n",
       "3  keystone                 keystone 4  00001f7f\n",
       "4  keystone                 keystone 5  00001f80\n",
       "5      rune       faint rune of beasts  0000206c\n",
       "6      rune  shimmering rune of beasts  0000206d\n",
       "7      rune     glowing rune of beasts  0000206e\n",
       "8      rune     shining rune of beasts  0000206f\n",
       "9      rune     radiant rune of beasts  00002070"
      ]
     },
     "execution_count": 40,
     "metadata": {},
     "output_type": "execute_result"
    }
   ],
   "source": [
    "csv_file_path = 'ConvergenceER_Item_IDs_by_Hexwedgie.csv'\n",
    "df = pd.read_csv(csv_file_path)\n",
    "\n",
    "# Group by 'type' and convert IDs to hexadecimal\n",
    "grouped_df = df.groupby('type',group_keys=False).apply(lambda group: group.assign(id_hex=group['id'].apply(decimal_to_hexadecimal)))\n",
    "\n",
    "# Drop the original 'id' column\n",
    "grouped_df.drop(columns=['id'], inplace=True)\n",
    "\n",
    "# Rename the 'id_hex' column to 'id'\n",
    "grouped_df.rename(columns={'id_hex': 'id'}, inplace=True)\n",
    "\n",
    "# grouped_df.drop(columns=['type'], inplace=True)\n",
    "\n",
    "# Apply the write_export_file function to each group and create export files\n",
    "grouped_df.groupby('type').apply(write_export_file)\n",
    "\n",
    "grouped_df.head(10)"
   ]
  },
  {
   "cell_type": "markdown",
   "metadata": {},
   "source": [
    "Count of Remnants:\n",
    "1. Essence Physick Remnant - 15\n",
    "2. "
   ]
  }
 ],
 "metadata": {
  "kernelspec": {
   "display_name": "base",
   "language": "python",
   "name": "python3"
  },
  "language_info": {
   "codemirror_mode": {
    "name": "ipython",
    "version": 3
   },
   "file_extension": ".py",
   "mimetype": "text/x-python",
   "name": "python",
   "nbconvert_exporter": "python",
   "pygments_lexer": "ipython3",
   "version": "3.9.16"
  },
  "orig_nbformat": 4
 },
 "nbformat": 4,
 "nbformat_minor": 2
}
